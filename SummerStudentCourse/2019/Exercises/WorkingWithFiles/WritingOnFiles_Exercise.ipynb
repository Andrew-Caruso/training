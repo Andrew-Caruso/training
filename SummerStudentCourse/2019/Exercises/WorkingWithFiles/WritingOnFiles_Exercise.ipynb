{
 "cells": [
  {
   "cell_type": "markdown",
   "metadata": {},
   "source": [
    "# Writing on files\n",
    "This is a Python notebook in which you will practice the concepts learned during the lectures.\n",
    "\n",
    "## Startup ROOT\n",
    "Import the ROOT module: this will activate the integration layer with the notebook automatically"
   ]
  },
  {
   "cell_type": "code",
   "execution_count": null,
   "metadata": {},
   "outputs": [],
   "source": [
    "import ROOT"
   ]
  },
  {
   "cell_type": "markdown",
   "metadata": {},
   "source": [
    "## Writing histograms\n",
    "Create a **TFile** containing three histograms filled with random numbers distributed according to a Gaus, an exponential and a uniform distribution.\n",
    "Close the file: you will reopen it later."
   ]
  },
  {
   "cell_type": "code",
   "execution_count": null,
   "metadata": {},
   "outputs": [],
   "source": [
    "rndm = ROOT.TRandom3(1)\n",
    "\n",
    "filename = \"histos.root\"\n",
    "\n",
    "# Here open a file and create three histograms\n",
    "\n",
    "for i in xrange(1024):\n",
    "    # Use the following lines to feed the Fill method of the histograms in order to fill\n",
    "    rndm.Gaus()\n",
    "    rndm.Exp(1)\n",
    "    rndm.Uniform(-4,4)\n",
    "\n",
    "# Here write the three histograms on the file and close the file    \n",
    "    "
   ]
  },
  {
   "cell_type": "markdown",
   "metadata": {},
   "source": [
    "Now, you can invoke the *ls* command from within the notebook to list the files in this directory. Check that the file is there. You can invoke the *rootls* command to see what's inside the file. "
   ]
  },
  {
   "cell_type": "code",
   "execution_count": null,
   "metadata": {},
   "outputs": [],
   "source": [
    "! ls .\n",
    "! echo Now listing the content of the file\n",
    "! rootls -l #filename here"
   ]
  },
  {
   "cell_type": "markdown",
   "metadata": {},
   "source": [
    "Access the histograms and draw them in Python. Remember that you need to create a TCanvas before and draw it too in order to inline the plots in the notebooks.\n",
    "You can switch to the interactive JavaScript visualisation using the *%jsroot on* \"magic\" command."
   ]
  },
  {
   "cell_type": "code",
   "execution_count": null,
   "metadata": {},
   "outputs": [],
   "source": [
    "%jsroot on\n",
    "f = ROOT.TFile(filename)\n",
    "c = ROOT.TCanvas()\n",
    "c.Divide(2,2)\n",
    "c.cd(1)\n",
    "f.gaus.Draw()\n",
    "# finish the drawing in each pad\n",
    "# Draw the Canvas"
   ]
  },
  {
   "cell_type": "markdown",
   "metadata": {},
   "source": [
    "You can now repeat the exercise above using **C++**. Transform the cell in a **C++** cell using the *%%cpp* \"magic\"."
   ]
  },
  {
   "cell_type": "code",
   "execution_count": null,
   "metadata": {},
   "outputs": [],
   "source": [
    "%%cpp\n",
    "TFile f(\"histos.root\");\n",
    "TH1F *hg, *he, *hu;\n",
    "f.GetObject(\"gaus\", hg);\n",
    "// ... read the histograms and draw them in each pad"
   ]
  }
 ],
 "metadata": {
  "kernelspec": {
   "display_name": "Python 2",
   "language": "python",
   "name": "python2"
  },
  "language_info": {
   "codemirror_mode": {
    "name": "ipython",
    "version": 2
   },
   "file_extension": ".py",
   "mimetype": "text/x-python",
   "name": "python",
   "nbconvert_exporter": "python",
   "pygments_lexer": "ipython2",
   "version": "2.7.15rc1"
  }
 },
 "nbformat": 4,
 "nbformat_minor": 2
}
