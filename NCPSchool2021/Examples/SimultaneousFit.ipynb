{
 "cells": [
  {
   "cell_type": "markdown",
   "metadata": {},
   "source": [
    "### Simultaneous Fit in RooFit"
   ]
  },
  {
   "cell_type": "markdown",
   "metadata": {},
   "source": [
    "We start creating the model"
   ]
  },
  {
   "cell_type": "code",
   "execution_count": null,
   "metadata": {},
   "outputs": [],
   "source": [
    "using namespace RooFit; \n",
    "RooFitResult * r = nullptr; \n",
    "\n",
    "RooWorkspace w(\"w\"); \n",
    "w.factory(\"Exponential:bkg1_pdf(x[0,10], a1[-0.5,-2,-0.2])\");\n",
    "w.factory(\"Gaussian:sig_pdf(x, mass[2], sigma[0.3])\");\n",
    "   \n",
    "w.factory(\"prod:nsig1(mu[1,0,5],xsec1[50])\");\n",
    "\n",
    "w.factory(\"SUM:model1(nsig1*sig_pdf, nbkg1[1000,0,10000]*bkg1_pdf)\");  // for extended model\n",
    "\n",
    "w.factory(\"Exponential:bkg2_pdf(x, a2[-0.25,-2,-0.2])\");\n",
    "\n",
    "w.factory(\"prod:nsig2(mu,xsec2[30])\");\n",
    "w.factory(\"SUM:model2(nsig2*sig_pdf, nbkg2[100,0,10000]*bkg2_pdf)\");  // for extended model\n",
    "\n",
    "// Create discrete observable to label channels\n",
    "w.factory(\"index[channel1,channel2]\");\n",
    "\n",
    "// Create joint pdf (RooSimultaneous)\n",
    "w.factory(\"SIMUL:jointModel(index,channel1=model1,channel2=model2)\");\n",
    "\n",
    "RooAbsPdf * pdf = w.pdf(\"jointModel\");\n",
    "RooRealVar * x = w.var(\"x\");  // the observable\n",
    "RooCategory * catIndex = w.cat(\"index\");  // the category\n"
   ]
  },
  {
   "cell_type": "markdown",
   "metadata": {},
   "source": [
    "Generate the data using the model PDF"
   ]
  },
  {
   "cell_type": "code",
   "execution_count": null,
   "metadata": {},
   "outputs": [],
   "source": [
    " // use fixed random numbers for reproducibility\n",
    "   // use 0 for changing every time\n",
    "RooRandom::randomGenerator()->SetSeed(111);\n",
    "   // generate binned \n",
    "   // plot the generate data in 50 bins (default is 100) \n",
    "x->setBins(50);\n",
    "\n",
    "   // generate events of joint model \n",
    "   // NB need to add also category as observable\n",
    "RooDataSet * jdata = pdf->generate( RooArgSet(*x,*catIndex));  // will generate accordint to total S+B events\n",
    "jdata->SetName(\"data\");\n",
    "w.import(*jdata);\n",
    "\n",
    "jdata->Print(); \n"
   ]
  },
  {
   "cell_type": "markdown",
   "metadata": {},
   "source": [
    "Plot the data"
   ]
  },
  {
   "cell_type": "code",
   "execution_count": null,
   "metadata": {},
   "outputs": [],
   "source": [
    "RooPlot * plot1 = x->frame(RooFit::Title(\"Channel 1\"));\n",
    "RooPlot * plot2 = x->frame(RooFit::Title(\"Channel 2\"));\n",
    "jdata->plotOn(plot1,RooFit::Cut(\"index==index::channel1\"));\n",
    "jdata->plotOn(plot2,RooFit::Cut(\"index==index::channel2\"));\n",
    "// plot in a Canvas\n",
    "TCanvas * c1 = new TCanvas();\n",
    "c1->Divide(1,2);\n",
    "c1->cd(1); plot1->Draw(); \n",
    "c1->cd(2); plot2->Draw();"
   ]
  },
  {
   "cell_type": "code",
   "execution_count": null,
   "metadata": {},
   "outputs": [],
   "source": [
    "c1->Draw();"
   ]
  },
  {
   "cell_type": "markdown",
   "metadata": {},
   "source": [
    "Fit and display the result"
   ]
  },
  {
   "cell_type": "code",
   "execution_count": null,
   "metadata": {},
   "outputs": [],
   "source": [
    "r = pdf->fitTo(*jdata, RooFit::Save(true), RooFit::Minimizer(\"Minuit2\",\"Migrad\"));\n",
    "r->Print();\n",
    "\n",
    "pdf->plotOn(plot1,RooFit::ProjWData(*jdata),RooFit::Slice(*w.cat(\"index\"),\"channel1\"));\n",
    "pdf->plotOn(plot2,RooFit::ProjWData(*jdata),RooFit::Slice(*w.cat(\"index\"),\"channel2\"));\n",
    "  //draw the two separate pdf's\n",
    "pdf->paramOn(plot1,RooFit::Layout(0.55,0.85,0.85),RooFit::Parameters(RooArgSet(*w.var(\"a1\"),*w.var(\"nbkg1\"))));\n",
    "pdf->paramOn(plot2,RooFit::Layout(0.55,0.85,0.85),RooFit::Parameters(RooArgSet(*w.var(\"a2\"),*w.var(\"nbkg2\"))));\n",
    "pdf->paramOn(plot2,RooFit::Layout(0.55,0.85,0.7),RooFit::Parameters(RooArgSet(*w.var(\"mu\"))));"
   ]
  },
  {
   "cell_type": "code",
   "execution_count": null,
   "metadata": {},
   "outputs": [],
   "source": [
    "c1->cd(1); plot1->Draw(); \n",
    "c1->cd(2); plot2->Draw();\n",
    "c1->Draw();"
   ]
  },
  {
   "cell_type": "code",
   "execution_count": null,
   "metadata": {},
   "outputs": [],
   "source": []
  }
 ],
 "metadata": {
  "kernelspec": {
   "display_name": "ROOT C++",
   "language": "c++",
   "name": "root"
  },
  "language_info": {
   "codemirror_mode": "text/x-c++src",
   "file_extension": ".C",
   "mimetype": " text/x-c++src",
   "name": "c++"
  }
 },
 "nbformat": 4,
 "nbformat_minor": 1
}
