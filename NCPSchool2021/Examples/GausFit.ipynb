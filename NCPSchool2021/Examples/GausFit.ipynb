{
 "cells": [
  {
   "cell_type": "markdown",
   "metadata": {},
   "source": [
    "# Example:  Gauss Histogram Fitting \n",
    "\n",
    "This example shows how to fit an histogram using ROOT "
   ]
  },
  {
   "cell_type": "markdown",
   "metadata": {},
   "source": [
    "Create First an empty histogram with 50 bins with range [-10,10]"
   ]
  },
  {
   "cell_type": "code",
   "execution_count": null,
   "metadata": {},
   "outputs": [],
   "source": [
    "TH1D h1(\"h1\",\"h1\",50,-8,8);"
   ]
  },
  {
   "cell_type": "markdown",
   "metadata": {},
   "source": [
    "Fill the histogram with 10000 Gaussian Random number with mean=1 and sigma=2"
   ]
  },
  {
   "cell_type": "code",
   "execution_count": null,
   "metadata": {},
   "outputs": [],
   "source": [
    "for (int i = 0; i < 1000; ++i) {\n",
    "    h1.Fill(gRandom->Gaus(1,2));\n",
    "}"
   ]
  },
  {
   "cell_type": "markdown",
   "metadata": {},
   "source": [
    "Note, we could also use the function h1.FillRandom(\"gaus\"), but we need to set the right parameters of the Gaussian function before."
   ]
  },
  {
   "cell_type": "code",
   "execution_count": null,
   "metadata": {},
   "outputs": [],
   "source": [
    "%jsroot on\n",
    "h1.DrawCopy();\n",
    "gPad->Draw();"
   ]
  },
  {
   "cell_type": "markdown",
   "metadata": {},
   "source": [
    "### Part1: Fit the Histogram with a Gaussian function\n",
    "\n",
    "Note that before fitting we need to create the fitting function and set its initial parameter values. \n",
    "For a Gaussian function the setting of initial values is not really needed, because they can be computed automatically by ROOT. "
   ]
  },
  {
   "cell_type": "code",
   "execution_count": null,
   "metadata": {},
   "outputs": [],
   "source": [
    "// declare here some variables which will be used afterwards\n",
    "TF1 * f1 = nullptr; \n",
    "TFitResultPtr res; "
   ]
  },
  {
   "cell_type": "markdown",
   "metadata": {},
   "source": [
    "Create the Gaussian Fit function"
   ]
  },
  {
   "cell_type": "code",
   "execution_count": null,
   "metadata": {},
   "outputs": [],
   "source": [
    "f1 = new TF1(\"f1\",\"gaus\",-8,8);"
   ]
  },
  {
   "cell_type": "markdown",
   "metadata": {},
   "source": [
    "Set the initial parametger values (e.g. Constant = 100, mean = 0, sigma =1)"
   ]
  },
  {
   "cell_type": "code",
   "execution_count": null,
   "metadata": {},
   "outputs": [],
   "source": [
    "f1->SetParameters(100,0,1);  "
   ]
  },
  {
   "cell_type": "markdown",
   "metadata": {},
   "source": [
    "Fit now the histogram using the Fit method in ROOT. By default the least-square method is used. \n",
    "For likelihood fits we need to use the option \"L\", for Pearson chi-square (expected error) , option \"P\".\n",
    "\n",
    "Use also  option \"S\" to create a TFitResult object that is returned to the user.\n",
    "To compute the error using MINOS, use the \"E\" option\n"
   ]
  },
  {
   "cell_type": "code",
   "execution_count": null,
   "metadata": {},
   "outputs": [],
   "source": [
    "res  = h1.Fit(f1, \"S  E\");"
   ]
  },
  {
   "cell_type": "code",
   "execution_count": null,
   "metadata": {},
   "outputs": [],
   "source": [
    "gStyle->SetOptFit(1111);\n",
    "gPad->SetLogy(true); // to set log scale in y\n",
    "gPad->Draw();"
   ]
  },
  {
   "cell_type": "markdown",
   "metadata": {},
   "source": [
    "Print the result of the Fit from the returned TFitResult object"
   ]
  },
  {
   "cell_type": "code",
   "execution_count": null,
   "metadata": {},
   "outputs": [],
   "source": [
    "res->Print();"
   ]
  },
  {
   "cell_type": "markdown",
   "metadata": {},
   "source": [
    "We can plot the fit residuals using , see https://root.cern.ch/doc/master/classTRatioPlot.html "
   ]
  },
  {
   "cell_type": "code",
   "execution_count": null,
   "metadata": {},
   "outputs": [],
   "source": [
    "auto rp1 = new TRatioPlot(&h1);\n",
    "rp1->Draw();\n",
    "rp1->GetLowerRefYaxis()->SetTitle(\"ratio\");\n",
    "rp1->GetUpperRefYaxis()->SetTitle(\"entries\");\n",
    "gPad->Draw();"
   ]
  },
  {
   "cell_type": "markdown",
   "metadata": {},
   "source": [
    "We can print also the Chisquare value of the fit. \n",
    "- we print Chi2 computed using the bin values with observed errors (Neyman Chi2)\n",
    "- we print also the Chi2 obtained from the Poisson likeihood (Baker-Cousins Chi2) \n",
    "\n",
    "note that in the first case the empty bins are not used, while in the second one all bins are used including empty ones. "
   ]
  },
  {
   "cell_type": "code",
   "execution_count": null,
   "metadata": {},
   "outputs": [],
   "source": [
    "std::cout << \"Neyman chi2             = \" << h1.Chisquare(f1) << \"/ NDF = \" << f1->GetNDF() << std::endl;\n",
    "std::cout << \"Poisson likelihood chi2 = \" << h1.Chisquare(f1,\"L\") << \"/ NDF = \" << h1.GetNbinsX()-f1->GetNpar() << std::endl;"
   ]
  },
  {
   "cell_type": "markdown",
   "metadata": {},
   "source": [
    "Get the correlation matrix of the fit from the TFitResult class and print it "
   ]
  },
  {
   "cell_type": "code",
   "execution_count": null,
   "metadata": {},
   "outputs": [],
   "source": [
    "auto corrMatrix = res->GetCorrelationMatrix(); \n",
    "corrMatrix.Print(); "
   ]
  },
  {
   "cell_type": "code",
   "execution_count": null,
   "metadata": {},
   "outputs": [],
   "source": [
    "std::cout  << \"Gaussian sigma = \" << f1->GetParameter(\"Sigma\") << \"  +/- \" << f1->GetParError(f1->GetParNumber(\"Sigma\")) << std::endl;"
   ]
  },
  {
   "cell_type": "markdown",
   "metadata": {},
   "source": [
    "If we want to access the MINOS asymmetric error, we can get them from the FitResult object"
   ]
  },
  {
   "cell_type": "code",
   "execution_count": null,
   "metadata": {},
   "outputs": [],
   "source": [
    "std::cout  << \"Gaussian sigma = \" << res->Parameter(2) << \"  + \" << res->UpperError(2) << \"  \" << res->LowerError(2) << std::endl;"
   ]
  },
  {
   "cell_type": "markdown",
   "metadata": {},
   "source": [
    "### Part 2:  Fit Bias Study\n",
    "\n",
    "We study now the Fit Bias for the sigma parameter. We can look at the difference obtained by using 3 different fit methods: \n",
    "\n",
    "1. Chisquare fit using the observed error (default case in ROOT) \n",
    "2. Chisquare fit using the expected error (option \"P\" - Pearson chi2)\n",
    "3. Binned maximum likelihood fit (option \"L\")"
   ]
  },
  {
   "cell_type": "code",
   "execution_count": null,
   "metadata": {},
   "outputs": [],
   "source": [
    "TH1 * hs = nullptr;"
   ]
  },
  {
   "cell_type": "code",
   "execution_count": null,
   "metadata": {},
   "outputs": [],
   "source": [
    "hs = new TH1D(\"hs\",\"Sigma pull distribution\",50,-4,4);"
   ]
  },
  {
   "cell_type": "markdown",
   "metadata": {},
   "source": [
    "Generate 1000 pseudo-experiments, where for each one of them generate an histogram as above (50 bins, in [-10,10] and fill it with 1000 Gaussian distributed numbers with $\\mu=1$ and $\\sigma=2$. \n",
    "For each pseudo-experiment, fit the histogram and look at the obtained $\\sigma$ value from the fit. \n",
    "Fill the *Sigma pull histogram*, *hs* with $(\\sigma_{FIT} - \\sigma_{TRUE})/\\sigma_{FIT-ERROR}$. \n",
    "\n",
    "$\\sigma_{TRUE} = 2$ in this case and $\\sigma_{FIT-ERROR}$ is the uncertainty obtained from the fit.\n",
    "\n",
    "Do for one of the three cases (Neyman chi2 (default), Likelihood fit (option *L*) or Pearson chi2 (option *P*)"
   ]
  },
  {
   "cell_type": "code",
   "execution_count": null,
   "metadata": {},
   "outputs": [],
   "source": [
    "hs->Reset(); // in case we run a second time\n",
    "for (int iexp = 0; iexp < 1000; ++iexp) { \n",
    "    TH1D h0(\"h0\",\"h0\",50,-8,8);\n",
    "    for (int i = 0; i < 1000; ++i){\n",
    "        h0.Fill(gRandom->Gaus(0,2));\n",
    "    }\n",
    "    TF1 f1(\"f1\",\"gaus\",-8,8);\n",
    "    f1.SetParameters(100,0,1);\n",
    "    h0.Fit(&f1,\"Q  P\");  // use Q option to avoid too much printing\n",
    "    hs->Fill( (f1.GetParameter(2)- 2)/f1.GetParError(2));  // to get sigma and its error\n",
    "    //std::cout << f1.GetParameter(2) << \" \" << f1.GetParError(2) << std::endl;\n",
    "}"
   ]
  },
  {
   "cell_type": "markdown",
   "metadata": {},
   "source": [
    "Fit the obtained Pull distribution with a Gaussian function"
   ]
  },
  {
   "cell_type": "code",
   "execution_count": null,
   "metadata": {},
   "outputs": [],
   "source": [
    "hs->Fit(\"gaus\"); gPad->Draw();"
   ]
  },
  {
   "cell_type": "markdown",
   "metadata": {
    "collapsed": true
   },
   "source": [
    "### Part 3:  Study the chi2 distribution\n",
    "\n",
    "Using the likelihood definition described in the Baker-Cousins paper we can use the likelihood at the minimum as a chi2. We study its distribution using pseudo-experiments.\n",
    "We can compare what we obtain if we use the likelihood-value in a likelihood fit or the chi2 obtained when doing a\n",
    "chi2 Fit (Neyman or Pearson chi2). "
   ]
  },
  {
   "cell_type": "code",
   "execution_count": null,
   "metadata": {},
   "outputs": [],
   "source": [
    "TH1 * hchi = nullptr;\n",
    "TF1 * fchi = nullptr; "
   ]
  },
  {
   "cell_type": "code",
   "execution_count": null,
   "metadata": {},
   "outputs": [],
   "source": [
    "hchi = new TH1D(\"hchi\",\"chi-squared distribution\",100,0,100);"
   ]
  },
  {
   "cell_type": "markdown",
   "metadata": {},
   "source": [
    "The Baker-Cousins likelihood-value is obtained from the FitResult class as \n",
    "$2 \\times$ *result->MinFcnValue()*\n",
    "*result->Chi2()* returns instead the Chi2 obtained from the data-function resuduals.\n",
    "\n",
    "Genersate now 10000 pseudo-experiments and for each of them create, fill and fit an histogram as before. \n",
    "But now make an histogram of the chi2 distribution, either using *2 result->MinFcnValue()* if doing a likelihood fit or\n",
    "using *result->Chi2()* in case of a chi2 fit"
   ]
  },
  {
   "cell_type": "code",
   "execution_count": null,
   "metadata": {},
   "outputs": [],
   "source": [
    "hchi->Reset(); // in case we run a second time\n",
    "for (int iexp = 0; iexp < 10000; ++iexp) { \n",
    "    TH1D h0(\"h0\",\"h0\",50,-8,8);\n",
    "    for (int i = 0; i < 1000; ++i){\n",
    "        h0.Fill(gRandom->Gaus(0,4));\n",
    "    }\n",
    "    TF1 f1(\"f1\",\"gaus\",-8,8);\n",
    "    f1.SetParameters(100,0,1);\n",
    "    // for likelihood fits \n",
    "    auto r = h0.Fit(&f1,\"S Q L \");  // use Q option to avoid too much printing\n",
    "    hchi->Fill( 2.* r->MinFcnValue() );  // to get likelihood value from fit result\n",
    "    // uncomment these lines for chi2 fits and comment the two lines above\n",
    "    //auto r = h0.Fit(&f1,\"S Q \");  // use Q option to avoid too much printing\n",
    "    //hchi->Fill( r->Chi2 () );  //  get chi2 value from fit result\n",
    "}"
   ]
  },
  {
   "cell_type": "code",
   "execution_count": null,
   "metadata": {},
   "outputs": [],
   "source": [
    "hchi->Draw(); gPad->Draw();"
   ]
  },
  {
   "cell_type": "code",
   "execution_count": null,
   "metadata": {},
   "outputs": [],
   "source": [
    "fchi = new TF1(\"fchi\",\"[0]*ROOT::Math::chisquared_pdf(x,[1])\",0,100);\n",
    "fchi->SetParameters(hchi->GetEntries()*hchi->GetBinWidth(1), hchi->GetMean());"
   ]
  },
  {
   "cell_type": "code",
   "execution_count": null,
   "metadata": {},
   "outputs": [],
   "source": [
    "hchi->Fit(fchi,\"L\");"
   ]
  },
  {
   "cell_type": "code",
   "execution_count": null,
   "metadata": {},
   "outputs": [],
   "source": [
    "hchi->Draw(); gPad->Draw();"
   ]
  },
  {
   "cell_type": "markdown",
   "metadata": {},
   "source": [
    "Which of the two obtained quantities (Baker-Cousins lieklihood or Neyman chi2) agree better with a real chi2 distribution ? "
   ]
  }
 ],
 "metadata": {
  "kernelspec": {
   "display_name": "ROOT C++",
   "language": "c++",
   "name": "root"
  },
  "language_info": {
   "codemirror_mode": "text/x-c++src",
   "file_extension": ".C",
   "mimetype": " text/x-c++src",
   "name": "c++"
  }
 },
 "nbformat": 4,
 "nbformat_minor": 1
}
