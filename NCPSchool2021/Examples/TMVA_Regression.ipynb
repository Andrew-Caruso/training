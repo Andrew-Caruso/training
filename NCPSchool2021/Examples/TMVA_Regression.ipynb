{
 "cells": [
  {
   "cell_type": "markdown",
   "metadata": {},
   "source": [
    "<img src=\"tmva_logo.gif\" height=\"20%\" width=\"20%\">\n",
    "\n",
    "\n",
    "# Regression Example\n",
    "\n",
    "Example of TMVA for Regression"
   ]
  },
  {
   "cell_type": "markdown",
   "metadata": {},
   "source": [
    "### Create Factory class\n",
    "\n",
    "Create a factory class for the regression. It is important to specify that the AnalysisType is in this case **Regression**"
   ]
  },
  {
   "cell_type": "code",
   "execution_count": null,
   "metadata": {},
   "outputs": [],
   "source": [
    "TMVA::Tools::Instance();\n",
    "\n",
    "auto inputFile = TFile::Open(\"inputdata_regression.root\");\n",
    "auto outputFile = TFile::Open(\"TMVA_RegressionOutput.root\", \"RECREATE\");\n",
    "\n",
    "TMVA::Factory factory(\"TMVARegression\", outputFile,\n",
    "                      \"!V:!Silent:Color:!DrawProgressBar:AnalysisType=Regression\" ); "
   ]
  },
  {
   "cell_type": "markdown",
   "metadata": {},
   "source": [
    "### Create DataLoader class\n",
    "\n",
    "Cretae the DataLoader class and define the input features and the target for the regression."
   ]
  },
  {
   "cell_type": "code",
   "execution_count": null,
   "metadata": {},
   "outputs": [],
   "source": [
    "TMVA::DataLoader loader(\"dataset\"); \n",
    "\n",
    "// Add the feature variables, names reference branches in inputFile ttree\n",
    "loader.AddVariable(\"var1\");\n",
    "loader.AddVariable(\"var2\");\n",
    "loader.AddVariable(\"var3\");\n",
    "loader.AddVariable(\"var4\");\n",
    "loader.AddVariable(\"var5 := var1-var3\"); // create new features\n",
    "loader.AddVariable(\"var6 := var1+var2\");\n",
    "\n",
    "loader.AddTarget( \"target := var2+var3\" ); // define the target for the regression\n"
   ]
  },
  {
   "cell_type": "markdown",
   "metadata": {},
   "source": [
    "### Setup Dataset\n",
    "Link dataloader to dataset and prepare the data"
   ]
  },
  {
   "cell_type": "code",
   "execution_count": null,
   "metadata": {},
   "outputs": [],
   "source": [
    "TTree *tree;\n",
    "inputFile->GetObject(\"Sig\", tree);\n",
    "\n",
    "TCut mycuts = \"\"; // e.g. TCut mycuts = \"abs(var1)<0.5\";\n",
    "\n",
    "loader.AddRegressionTree(tree, 1.0);   // link the TTree to the loader, weight for each event  = 1\n",
    "loader.PrepareTrainingAndTestTree(mycuts,\n",
    "                                   \"nTrain_Regression=1000:nTest_Regression=1000:SplitMode=Random:NormMode=NumEvents:!V\" );"
   ]
  },
  {
   "cell_type": "markdown",
   "metadata": {},
   "source": [
    "## Book the regression method"
   ]
  },
  {
   "cell_type": "markdown",
   "metadata": {},
   "source": [
    "Book the method for regression. Here we choose the Boosted Decision Tree model. You have to use gradient boosted trees for regression, hence the BDTG and BoostType=Grad. \n",
    "\n",
    "Define the hyperparameters: ntrees, boosttype, shrinkage, and the depth. Also define the loss function you want to use: 'AbsoluteDeviation', 'Huber', or 'LeastSquares'. nCuts determines how finely to look at each feature. Larger values take more time, but you may get more accurate results."
   ]
  },
  {
   "cell_type": "code",
   "execution_count": null,
   "metadata": {},
   "outputs": [],
   "source": [
    "// Boosted Decision Trees \n",
    "factory.BookMethod(&loader,TMVA::Types::kBDT, \"BDTG_HU\",\n",
    "                   TString(\"!H:!V:NTrees=64::BoostType=Grad:Shrinkage=0.3:nCuts=20:MaxDepth=4:\")+\n",
    "                   TString(\"RegressionLossFunctionBDTG=Huber\"));"
   ]
  },
  {
   "cell_type": "code",
   "execution_count": null,
   "metadata": {},
   "outputs": [],
   "source": [
    "// Boosted Decision Trees \n",
    "factory.BookMethod(&loader,TMVA::Types::kBDT, \"BDTG_LS\",\n",
    "                   TString(\"!H:!V:NTrees=64::BoostType=Grad:Shrinkage=0.3:nCuts=20:MaxDepth=4:\")+\n",
    "                   TString(\"RegressionLossFunctionBDTG=LeastSquares\"));"
   ]
  },
  {
   "cell_type": "markdown",
   "metadata": {},
   "source": [
    "# Train Method"
   ]
  },
  {
   "cell_type": "code",
   "execution_count": null,
   "metadata": {},
   "outputs": [],
   "source": [
    "factory.TrainAllMethods();"
   ]
  },
  {
   "cell_type": "markdown",
   "metadata": {},
   "source": [
    "# Test and Evaluate the Model"
   ]
  },
  {
   "cell_type": "code",
   "execution_count": null,
   "metadata": {},
   "outputs": [],
   "source": [
    "factory.TestAllMethods();    "
   ]
  },
  {
   "cell_type": "code",
   "execution_count": null,
   "metadata": {},
   "outputs": [],
   "source": [
    "factory.EvaluateAllMethods();"
   ]
  },
  {
   "cell_type": "markdown",
   "metadata": {},
   "source": [
    "## Gather and Plot the Results\n",
    "Let's plot the residuals for the BDTG predictions. First, close the output file so that it saves to disk and we can open it without issue. Then get the results on the test set. Finally, plot the residuals."
   ]
  },
  {
   "cell_type": "code",
   "execution_count": null,
   "metadata": {},
   "outputs": [],
   "source": [
    "//%jsroot on\n",
    "outputFile->Close();\n",
    "auto resultsFile = TFile::Open(\"TMVA_RegressionOutput.root\");\n",
    "auto resultsTree = (TTree*) resultsFile->Get(\"dataset/TestTree\"); \n",
    "// BDTG-AD is the predicted value, target is the true value\n",
    "auto h1 = new TH1D(\"h1\",\"BDTG-target\",100,1,0);\n",
    "resultsTree->Draw(\"BDTG_HU-target >> h1\"); \n",
    "auto h2 = (TH1*) h1->Clone(\"h2\");\n",
    "resultsTree->Draw(\"BDTG_LS-target >> h2\"); \n",
    "h1->SetLineColor(kBlue); h1->Draw();\n",
    "h2->SetLineColor(kRed); h2->Draw(\"SAME\");\n",
    "gPad->Draw();"
   ]
  },
  {
   "cell_type": "code",
   "execution_count": null,
   "metadata": {},
   "outputs": [],
   "source": []
  }
 ],
 "metadata": {
  "kernelspec": {
   "display_name": "ROOT C++",
   "language": "c++",
   "name": "root"
  },
  "language_info": {
   "codemirror_mode": "text/x-c++src",
   "file_extension": ".C",
   "mimetype": " text/x-c++src",
   "name": "c++"
  }
 },
 "nbformat": 4,
 "nbformat_minor": 1
}
