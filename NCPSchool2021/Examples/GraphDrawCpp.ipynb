{
 "cells": [
  {
   "cell_type": "markdown",
   "metadata": {},
   "source": [
    "# Interactively Draw a Graph - Cpp Version"
   ]
  },
  {
   "cell_type": "markdown",
   "metadata": {},
   "source": [
    "We now create a simple graph and fill with 5 points"
   ]
  },
  {
   "cell_type": "code",
   "execution_count": null,
   "metadata": {},
   "outputs": [],
   "source": [
    "auto g = new TGraph();\n",
    "for (int i = 0; i < 5; i++) {\n",
    "    double x = i; \n",
    "    double y = i*i; \n",
    "    g->SetPoint(i,x,y);\n",
    "}"
   ]
  },
  {
   "cell_type": "markdown",
   "metadata": {},
   "source": [
    "we now draw the Graph in a ROOT canvas"
   ]
  },
  {
   "cell_type": "code",
   "execution_count": null,
   "metadata": {},
   "outputs": [],
   "source": [
    "auto c = new TCanvas();\n",
    "g->Draw(\"APL\");\n",
    "c->Draw();"
   ]
  },
  {
   "cell_type": "markdown",
   "metadata": {},
   "source": [
    "Change marker style, colour as well as line colour and thickness. Make the plot interactive. Re-draw the plot and interact with it!"
   ]
  },
  {
   "cell_type": "code",
   "execution_count": null,
   "metadata": {},
   "outputs": [],
   "source": [
    "%jsroot on\n",
    "g->SetMarkerStyle(kFullTriangleUp);\n",
    "g->SetMarkerSize(3);\n",
    "g->SetMarkerColor(kAzure);\n",
    "g->SetLineColor(kRed - 2);\n",
    "g->SetLineWidth(2);\n",
    "g->SetLineStyle(3);\n",
    "c->Draw();"
   ]
  },
  {
   "cell_type": "markdown",
   "metadata": {
    "collapsed": true
   },
   "source": [
    "Now we set the title and the grid on the canvas."
   ]
  },
  {
   "cell_type": "code",
   "execution_count": null,
   "metadata": {},
   "outputs": [],
   "source": [
    "g->SetTitle(\"My Graph;The X;My Y\");\n",
    "c->SetGrid();\n",
    "c->Draw();"
   ]
  },
  {
   "cell_type": "markdown",
   "metadata": {},
   "source": [
    "We will now add the symbol of the Calcium isotope"
   ]
  },
  {
   "cell_type": "code",
   "execution_count": null,
   "metadata": {},
   "outputs": [],
   "source": [
    "TString txt(\"#color[804]{My text #mu {}^{40}_{20}Ca}\");\n",
    "auto l = new TLatex(.2, 10, txt);\n",
    "l->Draw();\n",
    "c->Draw();"
   ]
  },
  {
   "cell_type": "markdown",
   "metadata": {},
   "source": [
    "Redraw using a Y axis in log scale."
   ]
  },
  {
   "cell_type": "code",
   "execution_count": null,
   "metadata": {},
   "outputs": [],
   "source": [
    "c->SetLogy();\n",
    "c->Draw();"
   ]
  }
 ],
 "metadata": {
  "kernelspec": {
   "display_name": "ROOT C++",
   "language": "c++",
   "name": "root"
  },
  "language_info": {
   "codemirror_mode": "text/x-c++src",
   "file_extension": ".C",
   "mimetype": " text/x-c++src",
   "name": "c++"
  }
 },
 "nbformat": 4,
 "nbformat_minor": 2
}
