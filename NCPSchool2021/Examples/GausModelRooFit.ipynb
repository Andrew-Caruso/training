{
 "cells": [
  {
   "cell_type": "markdown",
   "metadata": {},
   "source": [
    "##Simple Gaussian Fit using RooFit\n",
    " \n",
    " This notebooks shows the basic functionality of RooFit: \n",
    "  - Building a model\n",
    "  - Generating toy data from the model\n",
    "  - Fitting the model\n",
    "  - Saving the model in a Workspace for sharing and further usage\n",
    "  "
   ]
  },
  {
   "cell_type": "code",
   "execution_count": null,
   "metadata": {},
   "outputs": [],
   "source": [
    "RooWorkspace w(\"w\");\n",
    "// define a Gaussian pdf\n",
    "w.factory(\"Gaussian:g(x[-5,5],mu[0,-10,10],sigma[1,0,1000])\");\n",
    "// create extend pdf with number of events\n",
    "w.factory(\"ExtendPdf:model(g,nevt[100,0,100000])\");   \n",
    "\n",
    "RooAbsPdf * pdf = w.pdf(\"model\");   // access object from workspace\n",
    "RooRealVar * x = w.var(\"x\");   // access object from workspace"
   ]
  },
  {
   "cell_type": "code",
   "execution_count": null,
   "metadata": {},
   "outputs": [],
   "source": [
    "RooPlot * pl = nullptr;"
   ]
  },
  {
   "cell_type": "code",
   "execution_count": null,
   "metadata": {},
   "outputs": [],
   "source": [
    "pl = x->frame(); \n",
    "pdf->plotOn(pl);\n",
    "pl->Draw(); c1->Draw();"
   ]
  },
  {
   "cell_type": "code",
   "execution_count": null,
   "metadata": {},
   "outputs": [],
   "source": [
    "pdf->Print(\"t\")"
   ]
  },
  {
   "cell_type": "markdown",
   "metadata": {},
   "source": [
    "Create the data set by generating first 1000 data points. We do not bin the data "
   ]
  },
  {
   "cell_type": "code",
   "execution_count": null,
   "metadata": {},
   "outputs": [],
   "source": [
    "RooDataSet * dataset = nullptr;"
   ]
  },
  {
   "cell_type": "code",
   "execution_count": null,
   "metadata": {},
   "outputs": [],
   "source": [
    "dataset = pdf->generate(*x, 1000);"
   ]
  },
  {
   "cell_type": "markdown",
   "metadata": {},
   "source": [
    "We plot the data points. FOr plotting the data are binned in a default number of bins (100) which is defined in the RooRealVar object. Use x.setBins(50) to change the number of bins."
   ]
  },
  {
   "cell_type": "code",
   "execution_count": null,
   "metadata": {},
   "outputs": [],
   "source": [
    "dataset->plotOn(pl); \n",
    "pl->Draw(); c1->Draw();"
   ]
  },
  {
   "cell_type": "markdown",
   "metadata": {},
   "source": [
    "Now we fit the data set and store the result in a RooFitResult class. We use Minuit2 for the minimization"
   ]
  },
  {
   "cell_type": "code",
   "execution_count": null,
   "metadata": {},
   "outputs": [],
   "source": [
    " RooFitResult * res = nullptr;"
   ]
  },
  {
   "cell_type": "code",
   "execution_count": null,
   "metadata": {},
   "outputs": [],
   "source": [
    "res = pdf->fitTo(*dataset, RooFit::Minimizer(\"Minuit2\",\"Migrad\"), RooFit::Save(1) ); "
   ]
  },
  {
   "cell_type": "code",
   "execution_count": null,
   "metadata": {},
   "outputs": [],
   "source": [
    "res->Print()"
   ]
  },
  {
   "cell_type": "markdown",
   "metadata": {},
   "source": [
    "We plot now the fitted function and its resulting parameter values"
   ]
  },
  {
   "cell_type": "code",
   "execution_count": null,
   "metadata": {},
   "outputs": [],
   "source": [
    "pdf->plotOn(pl);\n",
    "pdf->paramOn(pl);\n",
    "pl->Draw(); \n",
    "c1->Draw();             "
   ]
  },
  {
   "cell_type": "markdown",
   "metadata": {},
   "source": [
    "We save now the workspace in a file"
   ]
  },
  {
   "cell_type": "code",
   "execution_count": null,
   "metadata": {},
   "outputs": [],
   "source": [
    "w.writeToFile(\"GaussianModel.root\", true);"
   ]
  },
  {
   "cell_type": "code",
   "execution_count": null,
   "metadata": {},
   "outputs": [],
   "source": [
    "w.Print();"
   ]
  },
  {
   "cell_type": "code",
   "execution_count": null,
   "metadata": {},
   "outputs": [],
   "source": []
  }
 ],
 "metadata": {
  "kernelspec": {
   "display_name": "ROOT C++",
   "language": "c++",
   "name": "root"
  },
  "language_info": {
   "codemirror_mode": "text/x-c++src",
   "file_extension": ".C",
   "mimetype": " text/x-c++src",
   "name": "c++"
  }
 },
 "nbformat": 4,
 "nbformat_minor": 1
}
