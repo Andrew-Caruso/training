{
 "cells": [
  {
   "cell_type": "markdown",
   "metadata": {},
   "source": [
    "### Higgs Fit\n",
    "\n",
    "RooFit example on fitting the 2-photon invariant mass to determine the number of Higgs signal events.\n",
    "\n",
    "We read the data set consisting of ~ 3000 2-photon invariant mass values from a tetx file (Hgg.txt) which should be in the current directory. \n",
    "Otherwise it can be downloaded from here: https://twiki.cern.ch/twiki/pub/Main/ROOTRioTutorial/Hgg.txt"
   ]
  },
  {
   "cell_type": "code",
   "execution_count": null,
   "metadata": {},
   "outputs": [],
   "source": [
    "   TTree tree(\"tree\",\"tree\");\n",
    "   int nevt = tree.ReadFile(\"Hgg.txt\",\"x\");\n",
    "   if (nevt <= 0) {\n",
    "      Error(\"fitHgg\",\"Error reading data from input file \");\n",
    "   }\n",
    "   std::cout << \"Read \" << nevt << \" from the file \" << std::endl;"
   ]
  },
  {
   "cell_type": "markdown",
   "metadata": {
    "collapsed": true
   },
   "source": [
    "We make now the RooFit model using the RooWorkspace Factory "
   ]
  },
  {
   "cell_type": "code",
   "execution_count": null,
   "metadata": {},
   "outputs": [],
   "source": [
    " RooWorkspace w(\"w\");\n",
    "   w.factory(\"x[110,160]\");  // invariant mass\n",
    "   \n",
    "   w.factory(\"nbackground[10000, 0, 10000]\");\n",
    "   //w.factory(\"Exponential::z1(x, a1[-1,-10,0])\");\n",
    "   w.var(\"nbackground\")->setVal(nevt);\n",
    "   w.var(\"nbackground\")->setMin(0.1*nevt);\n",
    "   w.var(\"nbackground\")->setMax(10*nevt);\n",
    "\n",
    "   // create exponential model as two components\n",
    "   w.factory(\"a1[ 7.5, -500, 500]\");\n",
    "   w.factory(\"a2[-1.5, -500, 500]\");\n",
    "   w.factory(\"expr::z('-(a1*x/100 + a2*(x/100)^2)', a1, a2, x)\");\n",
    "   w.factory(\"Exponential::bmodel(z, 1)\");\n",
    "\n",
    "   // signal model   \n",
    "   w.factory(\"nsignal[100, 0.0, 1000.0]\");\n",
    "   //w.factory(\"mass[%f, %f, %f]' % (massguess, massmin, massmax))\n",
    "   w.factory(\"mass[130, 110, 150]\");\n",
    "   w.factory(\"width[1, 0.5, 5]\");\n",
    "   w.factory(\"Gaussian::smodel(x, mass, width)\");\n",
    "   RooAbsPdf * smodel = w.pdf(\"smodel\");\n",
    "\n",
    "   w.factory(\"SUM::model(nbackground*bmodel, nsignal*smodel)\");\n",
    "   RooAbsPdf * model = w.pdf(\"model\");\n",
    "   RooRealVar * x = w.var(\"x\");"
   ]
  },
  {
   "cell_type": "code",
   "execution_count": null,
   "metadata": {},
   "outputs": [],
   "source": [
    "w.Print();"
   ]
  },
  {
   "cell_type": "markdown",
   "metadata": {},
   "source": [
    "We create now the RooFit data set importing the data from the ROOT tree.\n",
    "We import also the data set in the workspace"
   ]
  },
  {
   "cell_type": "code",
   "execution_count": null,
   "metadata": {},
   "outputs": [],
   "source": [
    "RooDataSet data(\"data\",\"data\",*w.var(\"x\"),RooFit::Import(tree) );\n",
    "w.import(data);"
   ]
  },
  {
   "cell_type": "markdown",
   "metadata": {},
   "source": [
    "we now fit the data"
   ]
  },
  {
   "cell_type": "code",
   "execution_count": null,
   "metadata": {},
   "outputs": [],
   "source": [
    "RooFitResult * r = nullptr;\n",
    "RooPlot * plot = nullptr;"
   ]
  },
  {
   "cell_type": "code",
   "execution_count": null,
   "metadata": {},
   "outputs": [],
   "source": [
    "plot = w.var(\"x\")->frame();\n",
    "data.plotOn(plot);"
   ]
  },
  {
   "cell_type": "code",
   "execution_count": null,
   "metadata": {},
   "outputs": [],
   "source": [
    "plot->Draw(); c1->Draw();"
   ]
  },
  {
   "cell_type": "code",
   "execution_count": null,
   "metadata": {},
   "outputs": [],
   "source": [
    "r = model->fitTo(data, RooFit::Minimizer(\"Minuit2\"),RooFit::Save(true), RooFit::Offset(true));"
   ]
  },
  {
   "cell_type": "markdown",
   "metadata": {},
   "source": [
    "Plot of the fit result"
   ]
  },
  {
   "cell_type": "code",
   "execution_count": null,
   "metadata": {
    "scrolled": true
   },
   "outputs": [],
   "source": [
    "\n",
    "model->plotOn(plot);\n",
    "model->plotOn(plot, RooFit::Components(\"bmodel\"),RooFit::LineStyle(kDashed));\n",
    "model->plotOn(plot, RooFit::Components(\"smodel\"),RooFit::LineColor(kRed));\n",
    "model->paramOn(plot);\n",
    "\n",
    "plot->Draw();\n",
    "c1->Draw();"
   ]
  },
  {
   "cell_type": "markdown",
   "metadata": {},
   "source": [
    "Before saving the workspace we create the RooStats model config object which is needed for the RooStats tools."
   ]
  },
  {
   "cell_type": "code",
   "execution_count": null,
   "metadata": {},
   "outputs": [],
   "source": [
    "RooStats::ModelConfig mc(\"ModelConfig\",&w);\n",
    "mc.SetPdf(*w.pdf(\"model\"));\n",
    "mc.SetParametersOfInterest(*w.var(\"nsignal\"));\n",
    "mc.SetObservables(*w.var(\"x\"));\n",
    "// define set of nuisance parameters\n",
    "w.defineSet(\"nuisParams\",\"a1,a2,nbackground\");\n",
    "\n",
    "mc.SetNuisanceParameters(*w.set(\"nuisParams\"));\n",
    "mc.Print();"
   ]
  },
  {
   "cell_type": "markdown",
   "metadata": {},
   "source": [
    "We want to semplify the H->gg model (for speeding-up ) the RooStats calculations, by assuming that the mass and the sigma of the signal are known and do not vary in the fits. We set them to constant"
   ]
  },
  {
   "cell_type": "code",
   "execution_count": null,
   "metadata": {},
   "outputs": [],
   "source": [
    "w.var(\"mass\")->setConstant(true);\n",
    "w.var(\"width\")->setConstant(true);\n",
    "w.import(mc);"
   ]
  },
  {
   "cell_type": "code",
   "execution_count": null,
   "metadata": {},
   "outputs": [],
   "source": [
    "w.writeToFile(\"HiggsModel.root\",true);\n",
    "w.Print();"
   ]
  },
  {
   "cell_type": "code",
   "execution_count": null,
   "metadata": {},
   "outputs": [],
   "source": []
  }
 ],
 "metadata": {
  "kernelspec": {
   "display_name": "ROOT C++",
   "language": "c++",
   "name": "root"
  },
  "language_info": {
   "codemirror_mode": "text/x-c++src",
   "file_extension": ".C",
   "mimetype": " text/x-c++src",
   "name": "c++"
  }
 },
 "nbformat": 4,
 "nbformat_minor": 1
}
