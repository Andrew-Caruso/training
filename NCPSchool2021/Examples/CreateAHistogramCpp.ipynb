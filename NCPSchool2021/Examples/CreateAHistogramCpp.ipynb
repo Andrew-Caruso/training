{
 "cells": [
  {
   "cell_type": "markdown",
   "metadata": {},
   "source": [
    "# Create a Histogram - C++ version\n",
    "Create a histogram, fill it with random numbers, set its colour to blue, draw it.\n",
    "Can you:\n",
    "- Can you use the native Python random number generator for this?\n",
    "- Can you make your plot interactive using JSROOT?\n",
    "- Can you document what you did in markdown?"
   ]
  },
  {
   "cell_type": "markdown",
   "metadata": {},
   "source": [
    "We now create our histogram"
   ]
  },
  {
   "cell_type": "code",
   "execution_count": null,
   "metadata": {},
   "outputs": [],
   "source": [
    "TH1D h(\"h\", \"My Notebook Histo;x;#\", 64, -4, 4)"
   ]
  },
  {
   "cell_type": "markdown",
   "metadata": {},
   "source": [
    "It is not easy nor efficient to use the Python random number generator in this context. We go for TRandom3"
   ]
  },
  {
   "cell_type": "code",
   "execution_count": null,
   "metadata": {},
   "outputs": [],
   "source": [
    "TRandom3 r(1);\n",
    "for (auto i : ROOT::TSeqI(1000)) h.Fill(r.Gaus());"
   ]
  },
  {
   "cell_type": "markdown",
   "metadata": {},
   "source": [
    "Time for styling the histogram and use jsroot"
   ]
  },
  {
   "cell_type": "code",
   "execution_count": null,
   "metadata": {},
   "outputs": [],
   "source": [
    "%jsroot on\n",
    "h.SetLineColor(kBlue);\n",
    "h.SetFillColor(kBlue);\n",
    "TCanvas c;\n",
    "h.Draw();\n",
    "c.Draw();"
   ]
  },
  {
   "cell_type": "code",
   "execution_count": null,
   "metadata": {},
   "outputs": [],
   "source": []
  }
 ],
 "metadata": {
  "kernelspec": {
   "display_name": "ROOT C++",
   "language": "c++",
   "name": "root"
  },
  "language_info": {
   "codemirror_mode": "text/x-c++src",
   "file_extension": ".C",
   "mimetype": " text/x-c++src",
   "name": "c++"
  }
 },
 "nbformat": 4,
 "nbformat_minor": 2
}
