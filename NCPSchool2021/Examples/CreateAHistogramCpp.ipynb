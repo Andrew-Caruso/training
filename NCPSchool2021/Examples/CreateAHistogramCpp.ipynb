{
 "cells": [
  {
   "cell_type": "markdown",
   "metadata": {},
   "source": [
    "# Create a Histogram - C++ version\n",
    "Create a histogram, fill it with random numbers, set its colour to blue, draw it.\n",
    "Can you:\n",
    "- Can you use the native Python random number generator for this?\n",
    "- Can you make your plot interactive using JSROOT?\n",
    "- Can you document what you did in markdown?"
   ]
  },
  {
   "cell_type": "markdown",
   "metadata": {},
   "source": [
    "We now create our histogram"
   ]
  },
  {
   "cell_type": "code",
   "execution_count": null,
   "metadata": {
    "collapsed": true
   },
   "outputs": [],
   "source": [
    "TH1D h(\"h\", \"My Notebook Histo;x;#\", 64, -4, 4)"
   ]
  },
  {
   "cell_type": "markdown",
   "metadata": {},
   "source": [
    "We use the ROOT random number generator, e.g TRandom3\n",
    "See https://root.cern.ch/doc/master/classTRandom.html for the list of available PRNG in ROOT"
   ]
  },
  {
   "cell_type": "code",
   "execution_count": null,
   "metadata": {
    "collapsed": true
   },
   "outputs": [],
   "source": [
    "TRandom3 r(1);\n",
    "for (auto i : ROOT::TSeqI(1000)) h.Fill(r.Gaus());"
   ]
  },
  {
   "cell_type": "markdown",
   "metadata": {},
   "source": [
    "Time for styling the histogram and use jsroot"
   ]
  },
  {
   "cell_type": "code",
   "execution_count": null,
   "metadata": {
    "collapsed": true
   },
   "outputs": [],
   "source": [
    "%jsroot on\n",
    "h.SetLineColor(kBlue);\n",
    "h.SetFillColor(kBlue);\n",
    "TCanvas c;\n",
    "h.Draw();\n",
    "c.Draw();"
   ]
  },
  {
   "cell_type": "code",
   "execution_count": null,
   "metadata": {
    "collapsed": true
   },
   "outputs": [],
   "source": []
  }
 ],
 "metadata": {
  "kernelspec": {
   "display_name": "ROOT C++",
   "language": "c++",
   "name": "root"
  },
  "language_info": {
   "codemirror_mode": "text/x-c++src",
   "file_extension": ".C",
   "mimetype": " text/x-c++src",
   "name": "c++"
  }
 },
 "nbformat": 4,
 "nbformat_minor": 2
}
