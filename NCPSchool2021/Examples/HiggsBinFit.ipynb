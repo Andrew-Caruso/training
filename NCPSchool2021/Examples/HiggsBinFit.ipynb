{
 "cells": [
  {
   "cell_type": "markdown",
   "metadata": {},
   "source": [
    "## $H \\to \\gamma \\gamma$ Fit\n",
    "\n",
    "This is an example of fitting the 2-photon invariant mass to determine the number of Higgs signal events.\n",
    "\n",
    "We have a data set consists of ~ 30000 di-photon invariant mass values from a tetx file (**Hgg.txt**) which should be in the current directory. \n",
    "\n",
    "We perform a binned maximum likelihood fit (for reducing the CPU time) using RooFit.  "
   ]
  },
  {
   "cell_type": "markdown",
   "metadata": {},
   "source": [
    "### 1. Reading Input data set"
   ]
  },
  {
   "cell_type": "code",
   "execution_count": null,
   "metadata": {},
   "outputs": [],
   "source": [
    "TTree tree(\"tree\",\"tree\");\n",
    "int nevt = tree.ReadFile(\"Hgg.txt\",\"x\");\n",
    "if (nevt <= 0) {\n",
    "    Error(\"fitHgg\",\"Error reading data from input file \");\n",
    "}\n",
    "std::cout << \"Read \" << nevt << \" from the file \" << std::endl;"
   ]
  },
  {
   "cell_type": "markdown",
   "metadata": {},
   "source": [
    "### 2.  Create of histogram representing the  data\n",
    "\n",
    "We make an histogram with 100 bins from 110 to 160 where we fill the invariant mass data from the tree"
   ]
  },
  {
   "cell_type": "code",
   "execution_count": null,
   "metadata": {},
   "outputs": [],
   "source": [
    "auto h1 = new TH1D(\"h1\",\"Invariant Mass distribution;Mass;\",100,110,160);\n",
    "tree.Draw(\"x >> h1\");\n",
    "h1->Draw(); gPad->Draw();"
   ]
  },
  {
   "cell_type": "markdown",
   "metadata": {
    "collapsed": true
   },
   "source": [
    "### 3. Model creation\n",
    "\n",
    "We make now the model using the capabilities of TF1 using the NSUM operator (normalized sum of functions). \n",
    "\n",
    "We assume a Gaussian distribution for the signal and a double  exponential distribution for the background as following: \n",
    "\n",
    "$$ P(x | \\mu , \\nu ) = n_{sig} \\times G(x | M , \\sigma) + n_{bkg} \\times E(x|a_1,a_2)$$\n",
    "\n",
    "where $G (x | M , \\sigma)$ is the Gaussian distribution for the signal and $E(x|a_1,a_2)$ is the exponential distribution describing the background. \n",
    "\n",
    "$$E(x|a_1,a_2) = \\frac{ e^{( - a1 * x/100 - a2 * (x/100)^2 )}}{\\int e^{-(.....)} dx }$$ "
   ]
  },
  {
   "cell_type": "code",
   "execution_count": null,
   "metadata": {},
   "outputs": [],
   "source": [
    "auto fsig = new TF1(\"fsig\",\"[Constant]*TMath::Gaus(x,[Mass],[Sigma])\");"
   ]
  },
  {
   "cell_type": "code",
   "execution_count": null,
   "metadata": {},
   "outputs": [],
   "source": [
    "auto fbkg = new TF1(\"fbkg\",\"[Constant]*exp(-([a1]*x)/100.-[a2]*(x/100)*(x/100))\");"
   ]
  },
  {
   "cell_type": "code",
   "execution_count": null,
   "metadata": {},
   "outputs": [],
   "source": [
    "auto fmodel = new TF1(\"model\",\"NSUM(fsig,fbkg)\",110,160);"
   ]
  },
  {
   "cell_type": "markdown",
   "metadata": {},
   "source": [
    "### 4. Fit the data \n",
    "\n",
    "We do first a fit to the histogram using the bacground only function to get reasanable values for the parameters"
   ]
  },
  {
   "cell_type": "code",
   "execution_count": null,
   "metadata": {},
   "outputs": [],
   "source": [
    "fbkg->SetParameter(\"Constant\",1.E7);\n",
    "fbkg->SetParameter(\"a1\",8);\n",
    "fbkg->SetParameter(\"a2\",2);\n",
    "fbkg->SetRange(110,160); fbkg->Draw();\n",
    "ROOT::Math::MinimizerOptions::SetDefaultMinimizer(\"Minuit2\");\n",
    "h1->Fit(fbkg,\"L\");\n",
    "gPad->Draw();"
   ]
  },
  {
   "cell_type": "markdown",
   "metadata": {},
   "source": [
    "#### Full data fit using the created model (Higgs signal + background)\n",
    "\n",
    "We first set initial parameter in the function"
   ]
  },
  {
   "cell_type": "code",
   "execution_count": null,
   "metadata": {},
   "outputs": [],
   "source": [
    "fmodel->Print(\"V\")"
   ]
  },
  {
   "cell_type": "code",
   "execution_count": null,
   "metadata": {},
   "outputs": [],
   "source": [
    "fmodel->SetParameter(\"Coeff0\",100);\n",
    "fmodel->SetParameter(\"Coeff1\",10000);\n",
    "fmodel->SetParameter(\"Mass\",124);\n",
    "fmodel->SetParameter(\"Sigma\",1);\n",
    "fmodel->SetParameter(\"a1\",fbkg->GetParameter(\"a1\"));\n",
    "fmodel->SetParameter(\"a2\",fbkg->GetParameter(\"a2\"));"
   ]
  },
  {
   "cell_type": "markdown",
   "metadata": {},
   "source": [
    "Now we fit the histogram. We perform a Binned likelihood fit (option L)"
   ]
  },
  {
   "cell_type": "code",
   "execution_count": null,
   "metadata": {},
   "outputs": [],
   "source": [
    "res = h1->Fit(fmodel,\"L S\");\n",
    "fmodel->Draw();\n",
    "h1->Draw();\n",
    "gPad->Draw();"
   ]
  },
  {
   "cell_type": "markdown",
   "metadata": {},
   "source": [
    "The number of signal/background events are equal to the Coefficients in the Normalized sum function divided by the bin width"
   ]
  },
  {
   "cell_type": "code",
   "execution_count": null,
   "metadata": {},
   "outputs": [],
   "source": [
    "double bw = h1->GetBinWidth(1);\n",
    "std::cout << \"Number of Higgs events = \" << res->Parameter(0)/bw << \" +/- \" << res->ParError(0)/bw << std::endl;\n",
    "std::cout << \"Number of Backg. events = \" << res->Parameter(1)/bw << \" +/- \" << res->ParError(1)/bw << std::endl;"
   ]
  },
  {
   "cell_type": "markdown",
   "metadata": {},
   "source": [
    "### 4. Compute the Significance\n",
    "\n",
    "For computing the significance we look at the Delta of the Likelihood obtained by fitting fixing the number of signal events to be zero and the full fit. \n",
    "The significance is equal to $\\sqrt {\\Delta logL}$.\n",
    "\n",
    "We do then a background only fit "
   ]
  },
  {
   "cell_type": "code",
   "execution_count": null,
   "metadata": {},
   "outputs": [],
   "source": [
    "auto fmodel2 = new TF1(*fmodel); \n",
    "fmodel2->FixParameter(0,0);\n",
    "fmodel2->FixParameter(2, res->Parameter(2));\n",
    "fmodel2->FixParameter(3, res->Parameter(3));\n",
    "fmodel2->SetLineColor(kBlue); "
   ]
  },
  {
   "cell_type": "code",
   "execution_count": null,
   "metadata": {},
   "outputs": [],
   "source": [
    "res2 = h1->Fit(fmodel2,\"L S +\");\n",
    "gPad->Draw();"
   ]
  },
  {
   "cell_type": "code",
   "execution_count": null,
   "metadata": {},
   "outputs": [],
   "source": [
    "std::cout << \"Significance is = \" << sqrt( res2->MinFcnValue() - res->MinFcnValue() ) << std::endl;"
   ]
  },
  {
   "cell_type": "code",
   "execution_count": null,
   "metadata": {},
   "outputs": [],
   "source": []
  }
 ],
 "metadata": {
  "kernelspec": {
   "display_name": "ROOT C++",
   "language": "c++",
   "name": "root"
  },
  "language_info": {
   "codemirror_mode": "text/x-c++src",
   "file_extension": ".C",
   "mimetype": " text/x-c++src",
   "name": "c++"
  }
 },
 "nbformat": 4,
 "nbformat_minor": 1
}
